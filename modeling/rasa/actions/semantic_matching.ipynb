{
 "cells": [
  {
   "cell_type": "code",
   "execution_count": 233,
   "metadata": {},
   "outputs": [],
   "source": [
    "import faiss\n",
    "from sentence_transformers import SentenceTransformer\n",
    "\n",
    "import numpy as np\n",
    "import pandas as pd\n",
    "\n",
    "import os\n",
    "from dotenv import load_dotenv\n",
    "\n",
    "import json"
   ]
  },
  {
   "cell_type": "code",
   "execution_count": 122,
   "outputs": [
    {
     "data": {
      "text/plain": "True"
     },
     "execution_count": 122,
     "metadata": {},
     "output_type": "execute_result"
    }
   ],
   "source": [
    "load_dotenv()"
   ],
   "metadata": {
    "collapsed": false
   }
  },
  {
   "cell_type": "code",
   "execution_count": null,
   "outputs": [],
   "source": [
    "encoder = SentenceTransformer('all-mpnet-base-v2', device='cpu')"
   ],
   "metadata": {
    "collapsed": false,
    "pycharm": {
     "is_executing": true
    }
   }
  },
  {
   "cell_type": "code",
   "execution_count": 267,
   "outputs": [],
   "source": [
    "# import article titles from metadata\n",
    "\n",
    "proj_home = os.getenv(\"PROJ_HOME\")\n",
    "metadata_filepath = os.path.join(proj_home, \"data/data/subject_matter/advanced_metadata.json\")\n",
    "\n",
    "with open(metadata_filepath, \"r\") as f:\n",
    " metadata = json.load(f)\n",
    "\n",
    "article_titles = list(set([item[\"title\"] for item in metadata]))\n",
    "article_titles_df = pd.DataFrame(data=article_titles, columns=['title'])"
   ],
   "metadata": {
    "collapsed": false
   }
  },
  {
   "cell_type": "code",
   "execution_count": 241,
   "outputs": [],
   "source": [
    "# get title embeddings\n",
    "\n",
    "title_embeddings = encoder.encode(article_titles, device='cpu')"
   ],
   "metadata": {
    "collapsed": false
   }
  },
  {
   "cell_type": "code",
   "execution_count": 263,
   "outputs": [],
   "source": [
    "# build FAISS index\n",
    "\n",
    "dim = 768\n",
    "index = faiss.IndexFlatL2(dim)\n",
    "index.add(title_embeddings)"
   ],
   "metadata": {
    "collapsed": false
   }
  },
  {
   "cell_type": "code",
   "execution_count": 275,
   "outputs": [],
   "source": [
    "# get article matches for a given subject\n",
    "\n",
    "def get_article_matches(subject, k=5):\n",
    " search_text = [subject]\n",
    " search_embedding = encoder.encode(search_text, device='cpu')\n",
    " dists, ids = index.search(search_embedding, k=k)\n",
    " dists = np.around(np.clip(dists, 0, 1), decimals=4)\n",
    " results = pd.DataFrame({'distance': dists[0], 'index': ids[0]})\n",
    " merge = pd.merge(results, article_titles_df, left_on='index', right_index=True)\n",
    " matches = merge['title'].tolist()\n",
    " return matches"
   ],
   "metadata": {
    "collapsed": false
   }
  },
  {
   "cell_type": "code",
   "execution_count": 288,
   "outputs": [
    {
     "data": {
      "text/plain": "['science', 'scientific theory', 'zoology', 'Big Science', 'physical science']"
     },
     "execution_count": 288,
     "metadata": {},
     "output_type": "execute_result"
    }
   ],
   "source": [
    "get_article_matches(\"science\")"
   ],
   "metadata": {
    "collapsed": false
   }
  },
  {
   "cell_type": "code",
   "execution_count": null,
   "outputs": [],
   "source": [],
   "metadata": {
    "collapsed": false
   }
  }
 ],
 "metadata": {
  "kernelspec": {
   "display_name": "Python 3 (ipykernel)",
   "language": "python",
   "name": "python3"
  },
  "language_info": {
   "codemirror_mode": {
    "name": "ipython",
    "version": 3
   },
   "file_extension": ".py",
   "mimetype": "text/x-python",
   "name": "python",
   "nbconvert_exporter": "python",
   "pygments_lexer": "ipython3",
   "version": "3.9.12"
  }
 },
 "nbformat": 4,
 "nbformat_minor": 1
}
